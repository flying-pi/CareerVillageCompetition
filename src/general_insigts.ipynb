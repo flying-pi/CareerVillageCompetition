{
  "cells": [
    {
      "cell_type": "code",
      "execution_count": 8,
      "outputs": [],
      "source": "from utils import file_load_utils \nfrom IPython.display import display, HTML",
      "metadata": {
        "pycharm": {
          "metadata": false,
          "name": "#%%\n",
          "is_executing": false
        }
      }
    },
    {
      "cell_type": "code",
      "execution_count": 9,
      "outputs": [],
      "source": "files \u003d file_load_utils.raw_data()",
      "metadata": {
        "pycharm": {
          "metadata": false,
          "name": "#%%\n",
          "is_executing": false
        }
      }
    },
    {
      "cell_type": "code",
      "execution_count": 11,
      "outputs": [
        {
          "data": {
            "text/plain": "\u0027groups.csv\u0027"
          },
          "metadata": {},
          "output_type": "display_data"
        },
        {
          "data": {
            "text/plain": "\u003cIPython.core.display.HTML object\u003e",
            "text/html": "\u003ctable border\u003d\"1\" class\u003d\"dataframe\"\u003e\n  \u003cthead\u003e\n    \u003ctr style\u003d\"text-align: right;\"\u003e\n      \u003cth\u003e\u003c/th\u003e\n      \u003cth\u003egroups_id\u003c/th\u003e\n      \u003cth\u003egroups_group_type\u003c/th\u003e\n    \u003c/tr\u003e\n  \u003c/thead\u003e\n  \u003ctbody\u003e\n    \u003ctr\u003e\n      \u003cth\u003e0\u003c/th\u003e\n      \u003ctd\u003eeabbdf4029734c848a9da20779637d03\u003c/td\u003e\n      \u003ctd\u003eyouth program\u003c/td\u003e\n    \u003c/tr\u003e\n    \u003ctr\u003e\n      \u003cth\u003e1\u003c/th\u003e\n      \u003ctd\u003e7080bf8dcf78463bb03e6863887fd715\u003c/td\u003e\n      \u003ctd\u003eyouth program\u003c/td\u003e\n    \u003c/tr\u003e\n    \u003ctr\u003e\n      \u003cth\u003e2\u003c/th\u003e\n      \u003ctd\u003ebc6fc50a2b444efc8ec47111b290ffb8\u003c/td\u003e\n      \u003ctd\u003eyouth program\u003c/td\u003e\n    \u003c/tr\u003e\n    \u003ctr\u003e\n      \u003cth\u003e3\u003c/th\u003e\n      \u003ctd\u003e37f002e8d5e442ca8e36e972eaa55882\u003c/td\u003e\n      \u003ctd\u003eyouth program\u003c/td\u003e\n    \u003c/tr\u003e\n    \u003ctr\u003e\n      \u003cth\u003e4\u003c/th\u003e\n      \u003ctd\u003e52419ff84d4b47bebd0b0a6c1263c296\u003c/td\u003e\n      \u003ctd\u003eyouth program\u003c/td\u003e\n    \u003c/tr\u003e\n    \u003ctr\u003e\n      \u003cth\u003e5\u003c/th\u003e\n      \u003ctd\u003e559dbc7bd1f64c268ff149c4d5d63500\u003c/td\u003e\n      \u003ctd\u003eyouth program\u003c/td\u003e\n    \u003c/tr\u003e\n    \u003ctr\u003e\n      \u003cth\u003e6\u003c/th\u003e\n      \u003ctd\u003e528fa2c7559a40749b6151a07d3b8ef5\u003c/td\u003e\n      \u003ctd\u003eyouth program\u003c/td\u003e\n    \u003c/tr\u003e\n    \u003ctr\u003e\n      \u003cth\u003e7\u003c/th\u003e\n      \u003ctd\u003ecfaac1762bed4c8bb88696267129a560\u003c/td\u003e\n      \u003ctd\u003eyouth program\u003c/td\u003e\n    \u003c/tr\u003e\n    \u003ctr\u003e\n      \u003cth\u003e8\u003c/th\u003e\n      \u003ctd\u003ef79273f51df849d298bd6f4b86daee99\u003c/td\u003e\n      \u003ctd\u003eyouth program\u003c/td\u003e\n    \u003c/tr\u003e\n    \u003ctr\u003e\n      \u003cth\u003e9\u003c/th\u003e\n      \u003ctd\u003eba94226c87d249a1a2dbdc32a848b769\u003c/td\u003e\n      \u003ctd\u003eyouth program\u003c/td\u003e\n    \u003c/tr\u003e\n  \u003c/tbody\u003e\n\u003c/table\u003e"
          },
          "metadata": {},
          "output_type": "display_data"
        },
        {
          "data": {
            "text/plain": "\u0027professionals.csv\u0027"
          },
          "metadata": {},
          "output_type": "display_data"
        },
        {
          "data": {
            "text/plain": "\u003cIPython.core.display.HTML object\u003e",
            "text/html": "\u003ctable border\u003d\"1\" class\u003d\"dataframe\"\u003e\n  \u003cthead\u003e\n    \u003ctr style\u003d\"text-align: right;\"\u003e\n      \u003cth\u003e\u003c/th\u003e\n      \u003cth\u003eprofessionals_id\u003c/th\u003e\n      \u003cth\u003eprofessionals_location\u003c/th\u003e\n      \u003cth\u003eprofessionals_industry\u003c/th\u003e\n      \u003cth\u003eprofessionals_headline\u003c/th\u003e\n      \u003cth\u003eprofessionals_date_joined\u003c/th\u003e\n    \u003c/tr\u003e\n  \u003c/thead\u003e\n  \u003ctbody\u003e\n    \u003ctr\u003e\n      \u003cth\u003e0\u003c/th\u003e\n      \u003ctd\u003e9ced4ce7519049c0944147afb75a8ce3\u003c/td\u003e\n      \u003ctd\u003eNaN\u003c/td\u003e\n      \u003ctd\u003eNaN\u003c/td\u003e\n      \u003ctd\u003eNaN\u003c/td\u003e\n      \u003ctd\u003e2011-10-05 20:35:19 UTC+0000\u003c/td\u003e\n    \u003c/tr\u003e\n    \u003ctr\u003e\n      \u003cth\u003e1\u003c/th\u003e\n      \u003ctd\u003ef718dcf6d2ec4cb0a52a9db59d7f9e67\u003c/td\u003e\n      \u003ctd\u003eNaN\u003c/td\u003e\n      \u003ctd\u003eNaN\u003c/td\u003e\n      \u003ctd\u003eNaN\u003c/td\u003e\n      \u003ctd\u003e2011-10-05 20:49:21 UTC+0000\u003c/td\u003e\n    \u003c/tr\u003e\n    \u003ctr\u003e\n      \u003cth\u003e2\u003c/th\u003e\n      \u003ctd\u003e0c673e046d824ec0ad0ebe012a0673e4\u003c/td\u003e\n      \u003ctd\u003eNew York, New York\u003c/td\u003e\n      \u003ctd\u003eNaN\u003c/td\u003e\n      \u003ctd\u003eNaN\u003c/td\u003e\n      \u003ctd\u003e2011-10-18 17:31:26 UTC+0000\u003c/td\u003e\n    \u003c/tr\u003e\n    \u003ctr\u003e\n      \u003cth\u003e3\u003c/th\u003e\n      \u003ctd\u003e977428d851b24183b223be0eb8619a8c\u003c/td\u003e\n      \u003ctd\u003eBoston, Massachusetts\u003c/td\u003e\n      \u003ctd\u003eNaN\u003c/td\u003e\n      \u003ctd\u003eNaN\u003c/td\u003e\n      \u003ctd\u003e2011-11-09 20:39:29 UTC+0000\u003c/td\u003e\n    \u003c/tr\u003e\n    \u003ctr\u003e\n      \u003cth\u003e4\u003c/th\u003e\n      \u003ctd\u003ee2d57e5041a44f489288397c9904c2b2\u003c/td\u003e\n      \u003ctd\u003eNaN\u003c/td\u003e\n      \u003ctd\u003eNaN\u003c/td\u003e\n      \u003ctd\u003eNaN\u003c/td\u003e\n      \u003ctd\u003e2011-12-10 22:14:44 UTC+0000\u003c/td\u003e\n    \u003c/tr\u003e\n    \u003ctr\u003e\n      \u003cth\u003e5\u003c/th\u003e\n      \u003ctd\u003ec9bfa93898594cbbace436deca644c64\u003c/td\u003e\n      \u003ctd\u003eNaN\u003c/td\u003e\n      \u003ctd\u003eNaN\u003c/td\u003e\n      \u003ctd\u003eNaN\u003c/td\u003e\n      \u003ctd\u003e2011-12-12 14:25:46 UTC+0000\u003c/td\u003e\n    \u003c/tr\u003e\n    \u003ctr\u003e\n      \u003cth\u003e6\u003c/th\u003e\n      \u003ctd\u003eed85488fb5e941eaa97014137fcbf317\u003c/td\u003e\n      \u003ctd\u003eNaN\u003c/td\u003e\n      \u003ctd\u003eNaN\u003c/td\u003e\n      \u003ctd\u003eNaN\u003c/td\u003e\n      \u003ctd\u003e2011-12-28 03:02:04 UTC+0000\u003c/td\u003e\n    \u003c/tr\u003e\n    \u003ctr\u003e\n      \u003cth\u003e7\u003c/th\u003e\n      \u003ctd\u003e102fb92c28034ad988b593d0111cb4bb\u003c/td\u003e\n      \u003ctd\u003eNaN\u003c/td\u003e\n      \u003ctd\u003eNaN\u003c/td\u003e\n      \u003ctd\u003eNaN\u003c/td\u003e\n      \u003ctd\u003e2011-12-26 05:00:00 UTC+0000\u003c/td\u003e\n    \u003c/tr\u003e\n    \u003ctr\u003e\n      \u003cth\u003e8\u003c/th\u003e\n      \u003ctd\u003e5a4a16842ec64430ac3f916aacf35fe1\u003c/td\u003e\n      \u003ctd\u003eNaN\u003c/td\u003e\n      \u003ctd\u003eNaN\u003c/td\u003e\n      \u003ctd\u003eNaN\u003c/td\u003e\n      \u003ctd\u003e2011-12-26 05:00:00 UTC+0000\u003c/td\u003e\n    \u003c/tr\u003e\n    \u003ctr\u003e\n      \u003cth\u003e9\u003c/th\u003e\n      \u003ctd\u003e81999d5ad93549dab55636a545e84f2a\u003c/td\u003e\n      \u003ctd\u003eNaN\u003c/td\u003e\n      \u003ctd\u003eNaN\u003c/td\u003e\n      \u003ctd\u003eNaN\u003c/td\u003e\n      \u003ctd\u003e2011-12-26 05:00:00 UTC+0000\u003c/td\u003e\n    \u003c/tr\u003e\n  \u003c/tbody\u003e\n\u003c/table\u003e"
          },
          "metadata": {},
          "output_type": "display_data"
        },
        {
          "data": {
            "text/plain": "\u0027tag_questions.csv\u0027"
          },
          "metadata": {},
          "output_type": "display_data"
        },
        {
          "data": {
            "text/plain": "\u003cIPython.core.display.HTML object\u003e",
            "text/html": "\u003ctable border\u003d\"1\" class\u003d\"dataframe\"\u003e\n  \u003cthead\u003e\n    \u003ctr style\u003d\"text-align: right;\"\u003e\n      \u003cth\u003e\u003c/th\u003e\n      \u003cth\u003etag_questions_tag_id\u003c/th\u003e\n      \u003cth\u003etag_questions_question_id\u003c/th\u003e\n    \u003c/tr\u003e\n  \u003c/thead\u003e\n  \u003ctbody\u003e\n    \u003ctr\u003e\n      \u003cth\u003e0\u003c/th\u003e\n      \u003ctd\u003e28930\u003c/td\u003e\n      \u003ctd\u003ecb43ebee01364c68ac61d347a393ae39\u003c/td\u003e\n    \u003c/tr\u003e\n    \u003ctr\u003e\n      \u003cth\u003e1\u003c/th\u003e\n      \u003ctd\u003e28930\u003c/td\u003e\n      \u003ctd\u003e47f55e85ce944242a5a347ab85a8ffb4\u003c/td\u003e\n    \u003c/tr\u003e\n    \u003ctr\u003e\n      \u003cth\u003e2\u003c/th\u003e\n      \u003ctd\u003e28930\u003c/td\u003e\n      \u003ctd\u003eccc30a033a0f4dfdb2eb987012f25792\u003c/td\u003e\n    \u003c/tr\u003e\n    \u003ctr\u003e\n      \u003cth\u003e3\u003c/th\u003e\n      \u003ctd\u003e28930\u003c/td\u003e\n      \u003ctd\u003ee30b274e48d741f7bf50eb5e7171a3c0\u003c/td\u003e\n    \u003c/tr\u003e\n    \u003ctr\u003e\n      \u003cth\u003e4\u003c/th\u003e\n      \u003ctd\u003e28930\u003c/td\u003e\n      \u003ctd\u003e3d22742052df4989b311b4195cbb0f1a\u003c/td\u003e\n    \u003c/tr\u003e\n    \u003ctr\u003e\n      \u003cth\u003e5\u003c/th\u003e\n      \u003ctd\u003e28930\u003c/td\u003e\n      \u003ctd\u003ec79baebeb6d44726b6f70a2414fb69bc\u003c/td\u003e\n    \u003c/tr\u003e\n    \u003ctr\u003e\n      \u003cth\u003e6\u003c/th\u003e\n      \u003ctd\u003e28930\u003c/td\u003e\n      \u003ctd\u003e4eb64ed1527847f29d3e3d8a713bb3dc\u003c/td\u003e\n    \u003c/tr\u003e\n    \u003ctr\u003e\n      \u003cth\u003e7\u003c/th\u003e\n      \u003ctd\u003e28930\u003c/td\u003e\n      \u003ctd\u003ebebfb741f4524b8cb871f35b5780b54f\u003c/td\u003e\n    \u003c/tr\u003e\n    \u003ctr\u003e\n      \u003cth\u003e8\u003c/th\u003e\n      \u003ctd\u003e28930\u003c/td\u003e\n      \u003ctd\u003e3e7c462a0adb4bfa8830282867f3900b\u003c/td\u003e\n    \u003c/tr\u003e\n    \u003ctr\u003e\n      \u003cth\u003e9\u003c/th\u003e\n      \u003ctd\u003e28930\u003c/td\u003e\n      \u003ctd\u003e23b52dd81ad7465a9472596c7dedc492\u003c/td\u003e\n    \u003c/tr\u003e\n  \u003c/tbody\u003e\n\u003c/table\u003e"
          },
          "metadata": {},
          "output_type": "display_data"
        },
        {
          "data": {
            "text/plain": "\u0027emails.csv\u0027"
          },
          "metadata": {},
          "output_type": "display_data"
        },
        {
          "data": {
            "text/plain": "\u003cIPython.core.display.HTML object\u003e",
            "text/html": "\u003ctable border\u003d\"1\" class\u003d\"dataframe\"\u003e\n  \u003cthead\u003e\n    \u003ctr style\u003d\"text-align: right;\"\u003e\n      \u003cth\u003e\u003c/th\u003e\n      \u003cth\u003eemails_id\u003c/th\u003e\n      \u003cth\u003eemails_recipient_id\u003c/th\u003e\n      \u003cth\u003eemails_date_sent\u003c/th\u003e\n      \u003cth\u003eemails_frequency_level\u003c/th\u003e\n    \u003c/tr\u003e\n  \u003c/thead\u003e\n  \u003ctbody\u003e\n    \u003ctr\u003e\n      \u003cth\u003e0\u003c/th\u003e\n      \u003ctd\u003e2337714\u003c/td\u003e\n      \u003ctd\u003e0c673e046d824ec0ad0ebe012a0673e4\u003c/td\u003e\n      \u003ctd\u003e2018-12-07 01:05:40 UTC+0000\u003c/td\u003e\n      \u003ctd\u003eemail_notification_daily\u003c/td\u003e\n    \u003c/tr\u003e\n    \u003ctr\u003e\n      \u003cth\u003e1\u003c/th\u003e\n      \u003ctd\u003e2336077\u003c/td\u003e\n      \u003ctd\u003e0c673e046d824ec0ad0ebe012a0673e4\u003c/td\u003e\n      \u003ctd\u003e2018-12-06 01:14:15 UTC+0000\u003c/td\u003e\n      \u003ctd\u003eemail_notification_daily\u003c/td\u003e\n    \u003c/tr\u003e\n    \u003ctr\u003e\n      \u003cth\u003e2\u003c/th\u003e\n      \u003ctd\u003e2314660\u003c/td\u003e\n      \u003ctd\u003e0c673e046d824ec0ad0ebe012a0673e4\u003c/td\u003e\n      \u003ctd\u003e2018-11-17 00:38:27 UTC+0000\u003c/td\u003e\n      \u003ctd\u003eemail_notification_daily\u003c/td\u003e\n    \u003c/tr\u003e\n    \u003ctr\u003e\n      \u003cth\u003e3\u003c/th\u003e\n      \u003ctd\u003e2312639\u003c/td\u003e\n      \u003ctd\u003e0c673e046d824ec0ad0ebe012a0673e4\u003c/td\u003e\n      \u003ctd\u003e2018-11-16 00:32:19 UTC+0000\u003c/td\u003e\n      \u003ctd\u003eemail_notification_daily\u003c/td\u003e\n    \u003c/tr\u003e\n    \u003ctr\u003e\n      \u003cth\u003e4\u003c/th\u003e\n      \u003ctd\u003e2299700\u003c/td\u003e\n      \u003ctd\u003e0c673e046d824ec0ad0ebe012a0673e4\u003c/td\u003e\n      \u003ctd\u003e2018-11-08 00:16:40 UTC+0000\u003c/td\u003e\n      \u003ctd\u003eemail_notification_daily\u003c/td\u003e\n    \u003c/tr\u003e\n    \u003ctr\u003e\n      \u003cth\u003e5\u003c/th\u003e\n      \u003ctd\u003e2288533\u003c/td\u003e\n      \u003ctd\u003e0c673e046d824ec0ad0ebe012a0673e4\u003c/td\u003e\n      \u003ctd\u003e2018-11-02 23:02:12 UTC+0000\u003c/td\u003e\n      \u003ctd\u003eemail_notification_daily\u003c/td\u003e\n    \u003c/tr\u003e\n    \u003ctr\u003e\n      \u003cth\u003e6\u003c/th\u003e\n      \u003ctd\u003e2280818\u003c/td\u003e\n      \u003ctd\u003e0c673e046d824ec0ad0ebe012a0673e4\u003c/td\u003e\n      \u003ctd\u003e2018-10-30 00:54:31 UTC+0000\u003c/td\u003e\n      \u003ctd\u003eemail_notification_daily\u003c/td\u003e\n    \u003c/tr\u003e\n    \u003ctr\u003e\n      \u003cth\u003e7\u003c/th\u003e\n      \u003ctd\u003e2270520\u003c/td\u003e\n      \u003ctd\u003e0c673e046d824ec0ad0ebe012a0673e4\u003c/td\u003e\n      \u003ctd\u003e2018-10-25 23:44:41 UTC+0000\u003c/td\u003e\n      \u003ctd\u003eemail_notification_daily\u003c/td\u003e\n    \u003c/tr\u003e\n    \u003ctr\u003e\n      \u003cth\u003e8\u003c/th\u003e\n      \u003ctd\u003e2269277\u003c/td\u003e\n      \u003ctd\u003e0c673e046d824ec0ad0ebe012a0673e4\u003c/td\u003e\n      \u003ctd\u003e2018-10-25 02:46:00 UTC+0000\u003c/td\u003e\n      \u003ctd\u003eemail_notification_daily\u003c/td\u003e\n    \u003c/tr\u003e\n    \u003ctr\u003e\n      \u003cth\u003e9\u003c/th\u003e\n      \u003ctd\u003e2267396\u003c/td\u003e\n      \u003ctd\u003e0c673e046d824ec0ad0ebe012a0673e4\u003c/td\u003e\n      \u003ctd\u003e2018-10-24 04:42:34 UTC+0000\u003c/td\u003e\n      \u003ctd\u003eemail_notification_daily\u003c/td\u003e\n    \u003c/tr\u003e\n  \u003c/tbody\u003e\n\u003c/table\u003e"
          },
          "metadata": {},
          "output_type": "display_data"
        },
        {
          "data": {
            "text/plain": "\u0027answers.csv\u0027"
          },
          "metadata": {},
          "output_type": "display_data"
        },
        {
          "data": {
            "text/plain": "\u003cIPython.core.display.HTML object\u003e",
            "text/html": "\u003ctable border\u003d\"1\" class\u003d\"dataframe\"\u003e\n  \u003cthead\u003e\n    \u003ctr style\u003d\"text-align: right;\"\u003e\n      \u003cth\u003e\u003c/th\u003e\n      \u003cth\u003eanswers_id\u003c/th\u003e\n      \u003cth\u003eanswers_author_id\u003c/th\u003e\n      \u003cth\u003eanswers_question_id\u003c/th\u003e\n      \u003cth\u003eanswers_date_added\u003c/th\u003e\n      \u003cth\u003eanswers_body\u003c/th\u003e\n    \u003c/tr\u003e\n  \u003c/thead\u003e\n  \u003ctbody\u003e\n    \u003ctr\u003e\n      \u003cth\u003e0\u003c/th\u003e\n      \u003ctd\u003e4e5f01128cae4f6d8fd697cec5dca60c\u003c/td\u003e\n      \u003ctd\u003e36ff3b3666df400f956f8335cf53e09e\u003c/td\u003e\n      \u003ctd\u003e332a511f1569444485cf7a7a556a5e54\u003c/td\u003e\n      \u003ctd\u003e2016-04-29 19:40:14 UTC+0000\u003c/td\u003e\n      \u003ctd\u003e\u0026lt;p\u0026gt;Hi!\u0026lt;/p\u0026gt;\\n\u0026lt;p\u0026gt;You are asking a very interesti...\u003c/td\u003e\n    \u003c/tr\u003e\n    \u003ctr\u003e\n      \u003cth\u003e1\u003c/th\u003e\n      \u003ctd\u003eada720538c014e9b8a6dceed09385ee3\u003c/td\u003e\n      \u003ctd\u003e2aa47af241bf42a4b874c453f0381bd4\u003c/td\u003e\n      \u003ctd\u003eeb80205482e4424cad8f16bc25aa2d9c\u003c/td\u003e\n      \u003ctd\u003e2018-05-01 14:19:08 UTC+0000\u003c/td\u003e\n      \u003ctd\u003e\u0026lt;p\u0026gt;Hi. I joined the Army after I attended coll...\u003c/td\u003e\n    \u003c/tr\u003e\n    \u003ctr\u003e\n      \u003cth\u003e2\u003c/th\u003e\n      \u003ctd\u003eeaa66ef919bc408ab5296237440e323f\u003c/td\u003e\n      \u003ctd\u003ecbd8f30613a849bf918aed5c010340be\u003c/td\u003e\n      \u003ctd\u003eeb80205482e4424cad8f16bc25aa2d9c\u003c/td\u003e\n      \u003ctd\u003e2018-05-02 02:41:02 UTC+0000\u003c/td\u003e\n      \u003ctd\u003e\u0026lt;p\u0026gt;Dear Priyanka,\u0026lt;/p\u0026gt;\u0026lt;p\u0026gt;Greetings! I have answ...\u003c/td\u003e\n    \u003c/tr\u003e\n    \u003ctr\u003e\n      \u003cth\u003e3\u003c/th\u003e\n      \u003ctd\u003e1a6b3749d391486c9e371fbd1e605014\u003c/td\u003e\n      \u003ctd\u003e7e72a630c303442ba92ff00e8ea451df\u003c/td\u003e\n      \u003ctd\u003e4ec31632938a40b98909416bdd0decff\u003c/td\u003e\n      \u003ctd\u003e2017-05-10 19:00:47 UTC+0000\u003c/td\u003e\n      \u003ctd\u003e\u0026lt;p\u0026gt;I work for a global company who values high...\u003c/td\u003e\n    \u003c/tr\u003e\n    \u003ctr\u003e\n      \u003cth\u003e4\u003c/th\u003e\n      \u003ctd\u003e5229c514000446d582050f89ebd4e184\u003c/td\u003e\n      \u003ctd\u003e17802d94699140b0a0d2995f30c034c6\u003c/td\u003e\n      \u003ctd\u003e2f6a9a99d9b24e5baa50d40d0ba50a75\u003c/td\u003e\n      \u003ctd\u003e2017-10-13 22:07:33 UTC+0000\u003c/td\u003e\n      \u003ctd\u003eI agree with Denise. Every single job I\u0027ve had...\u003c/td\u003e\n    \u003c/tr\u003e\n    \u003ctr\u003e\n      \u003cth\u003e5\u003c/th\u003e\n      \u003ctd\u003e5f62fadae80748c7907e3b0551bf4203\u003c/td\u003e\n      \u003ctd\u003eb03c3872daeb4a5cb1d8cd510942f0c4\u003c/td\u003e\n      \u003ctd\u003e2f6a9a99d9b24e5baa50d40d0ba50a75\u003c/td\u003e\n      \u003ctd\u003e2017-10-12 16:01:44 UTC+0000\u003c/td\u003e\n      \u003ctd\u003eNetworking is a key component to progressing y...\u003c/td\u003e\n    \u003c/tr\u003e\n    \u003ctr\u003e\n      \u003cth\u003e6\u003c/th\u003e\n      \u003ctd\u003e1d804b3b9e764cdd90195fb138d1a5aa\u003c/td\u003e\n      \u003ctd\u003ef6c89fde797d45938bce3531f55c9b6b\u003c/td\u003e\n      \u003ctd\u003e5af8880460c141dbb02971a1a8369529\u003c/td\u003e\n      \u003ctd\u003e2017-09-29 18:50:11 UTC+0000\u003c/td\u003e\n      \u003ctd\u003ehttps://www.unigo.com/\\n\\nCheck out this websi...\u003c/td\u003e\n    \u003c/tr\u003e\n    \u003ctr\u003e\n      \u003cth\u003e7\u003c/th\u003e\n      \u003ctd\u003e08d3cf6fa20543ddbdc42f70a7bcae9e\u003c/td\u003e\n      \u003ctd\u003e5bc2db4d58584f95bdba30ed2c21d573\u003c/td\u003e\n      \u003ctd\u003e5af8880460c141dbb02971a1a8369529\u003c/td\u003e\n      \u003ctd\u003e2018-06-08 02:39:02 UTC+0000\u003c/td\u003e\n      \u003ctd\u003e\u0026lt;p\u0026gt;Hi Jocelyn ,\u0026lt;/p\u0026gt;\u0026lt;p\u0026gt;\u0026lt;br\u0026gt;\u0026lt;/p\u0026gt;\u0026lt;p\u0026gt;May I recomme...\u003c/td\u003e\n    \u003c/tr\u003e\n    \u003ctr\u003e\n      \u003cth\u003e8\u003c/th\u003e\n      \u003ctd\u003e9d33d099a03c44328fbf166aad585f63\u003c/td\u003e\n      \u003ctd\u003e8136c8653d3a4895b49cac90b88120d2\u003c/td\u003e\n      \u003ctd\u003e7c336403258f4da3a2e0955742c76462\u003c/td\u003e\n      \u003ctd\u003e2017-03-01 16:52:43 UTC+0000\u003c/td\u003e\n      \u003ctd\u003e\u0026lt;p\u0026gt;For the typical schedule it takes four year...\u003c/td\u003e\n    \u003c/tr\u003e\n    \u003ctr\u003e\n      \u003cth\u003e9\u003c/th\u003e\n      \u003ctd\u003e228e5feefb4e42188b7c48a5c7eb3aa8\u003c/td\u003e\n      \u003ctd\u003e35c8d979b56647839c8df0f0383648cd\u003c/td\u003e\n      \u003ctd\u003ebe3c5edfdb07423e955e9b2d7f186bce\u003c/td\u003e\n      \u003ctd\u003e2017-10-13 18:08:20 UTC+0000\u003c/td\u003e\n      \u003ctd\u003eOf course! I know someone who doubled in class...\u003c/td\u003e\n    \u003c/tr\u003e\n  \u003c/tbody\u003e\n\u003c/table\u003e"
          },
          "metadata": {},
          "output_type": "display_data"
        },
        {
          "data": {
            "text/plain": "\u0027group_memberships.csv\u0027"
          },
          "metadata": {},
          "output_type": "display_data"
        },
        {
          "data": {
            "text/plain": "\u003cIPython.core.display.HTML object\u003e",
            "text/html": "\u003ctable border\u003d\"1\" class\u003d\"dataframe\"\u003e\n  \u003cthead\u003e\n    \u003ctr style\u003d\"text-align: right;\"\u003e\n      \u003cth\u003e\u003c/th\u003e\n      \u003cth\u003egroup_memberships_group_id\u003c/th\u003e\n      \u003cth\u003egroup_memberships_user_id\u003c/th\u003e\n    \u003c/tr\u003e\n  \u003c/thead\u003e\n  \u003ctbody\u003e\n    \u003ctr\u003e\n      \u003cth\u003e0\u003c/th\u003e\n      \u003ctd\u003eeabbdf4029734c848a9da20779637d03\u003c/td\u003e\n      \u003ctd\u003e9a5aead62c344207b2624dba90985dc5\u003c/td\u003e\n    \u003c/tr\u003e\n    \u003ctr\u003e\n      \u003cth\u003e1\u003c/th\u003e\n      \u003ctd\u003eeabbdf4029734c848a9da20779637d03\u003c/td\u003e\n      \u003ctd\u003eea7122da1c7b4244a2184a4f9f944053\u003c/td\u003e\n    \u003c/tr\u003e\n    \u003ctr\u003e\n      \u003cth\u003e2\u003c/th\u003e\n      \u003ctd\u003eeabbdf4029734c848a9da20779637d03\u003c/td\u003e\n      \u003ctd\u003ecba603f34acb4a40b3ccb53fe6681b5d\u003c/td\u003e\n    \u003c/tr\u003e\n    \u003ctr\u003e\n      \u003cth\u003e3\u003c/th\u003e\n      \u003ctd\u003eeabbdf4029734c848a9da20779637d03\u003c/td\u003e\n      \u003ctd\u003efa9a126e63714641ae0145557a390cab\u003c/td\u003e\n    \u003c/tr\u003e\n    \u003ctr\u003e\n      \u003cth\u003e4\u003c/th\u003e\n      \u003ctd\u003eeabbdf4029734c848a9da20779637d03\u003c/td\u003e\n      \u003ctd\u003e299da113c5d1420ab525106c242c9429\u003c/td\u003e\n    \u003c/tr\u003e\n    \u003ctr\u003e\n      \u003cth\u003e5\u003c/th\u003e\n      \u003ctd\u003e7080bf8dcf78463bb03e6863887fd715\u003c/td\u003e\n      \u003ctd\u003e836a747118d6436caf56ff3a3c47289a\u003c/td\u003e\n    \u003c/tr\u003e\n    \u003ctr\u003e\n      \u003cth\u003e6\u003c/th\u003e\n      \u003ctd\u003e7080bf8dcf78463bb03e6863887fd715\u003c/td\u003e\n      \u003ctd\u003e82cf96ae74fa4b3a8ffd8a74446c08ca\u003c/td\u003e\n    \u003c/tr\u003e\n    \u003ctr\u003e\n      \u003cth\u003e7\u003c/th\u003e\n      \u003ctd\u003e7080bf8dcf78463bb03e6863887fd715\u003c/td\u003e\n      \u003ctd\u003eb0f6c44506444fb99e910dcc5836b5d8\u003c/td\u003e\n    \u003c/tr\u003e\n    \u003ctr\u003e\n      \u003cth\u003e8\u003c/th\u003e\n      \u003ctd\u003ebc6fc50a2b444efc8ec47111b290ffb8\u003c/td\u003e\n      \u003ctd\u003eab8d405cfdab4faf83ffe7f83944a87b\u003c/td\u003e\n    \u003c/tr\u003e\n    \u003ctr\u003e\n      \u003cth\u003e9\u003c/th\u003e\n      \u003ctd\u003ebc6fc50a2b444efc8ec47111b290ffb8\u003c/td\u003e\n      \u003ctd\u003e370dba85f183496186772be0c53a69b1\u003c/td\u003e\n    \u003c/tr\u003e\n  \u003c/tbody\u003e\n\u003c/table\u003e"
          },
          "metadata": {},
          "output_type": "display_data"
        },
        {
          "data": {
            "text/plain": "\u0027tag_users.csv\u0027"
          },
          "metadata": {},
          "output_type": "display_data"
        },
        {
          "data": {
            "text/plain": "\u003cIPython.core.display.HTML object\u003e",
            "text/html": "\u003ctable border\u003d\"1\" class\u003d\"dataframe\"\u003e\n  \u003cthead\u003e\n    \u003ctr style\u003d\"text-align: right;\"\u003e\n      \u003cth\u003e\u003c/th\u003e\n      \u003cth\u003etag_users_tag_id\u003c/th\u003e\n      \u003cth\u003etag_users_user_id\u003c/th\u003e\n    \u003c/tr\u003e\n  \u003c/thead\u003e\n  \u003ctbody\u003e\n    \u003ctr\u003e\n      \u003cth\u003e0\u003c/th\u003e\n      \u003ctd\u003e593\u003c/td\u003e\n      \u003ctd\u003ec72ab38e073246e88da7e9a4ec7a4472\u003c/td\u003e\n    \u003c/tr\u003e\n    \u003ctr\u003e\n      \u003cth\u003e1\u003c/th\u003e\n      \u003ctd\u003e1642\u003c/td\u003e\n      \u003ctd\u003e8db519781ec24f2e8bdc67c2ac53f614\u003c/td\u003e\n    \u003c/tr\u003e\n    \u003ctr\u003e\n      \u003cth\u003e2\u003c/th\u003e\n      \u003ctd\u003e638\u003c/td\u003e\n      \u003ctd\u003e042d2184ee3e4e548fc3589baaa69caf\u003c/td\u003e\n    \u003c/tr\u003e\n    \u003ctr\u003e\n      \u003cth\u003e3\u003c/th\u003e\n      \u003ctd\u003e11093\u003c/td\u003e\n      \u003ctd\u003ec660bd0dc1b34224be78a58aa5a84a63\u003c/td\u003e\n    \u003c/tr\u003e\n    \u003ctr\u003e\n      \u003cth\u003e4\u003c/th\u003e\n      \u003ctd\u003e21539\u003c/td\u003e\n      \u003ctd\u003e8ce1dca4e94240239e4385ed22ef43ce\u003c/td\u003e\n    \u003c/tr\u003e\n    \u003ctr\u003e\n      \u003cth\u003e5\u003c/th\u003e\n      \u003ctd\u003e1047\u003c/td\u003e\n      \u003ctd\u003e3330f8a7835346a2a91f9393ae21efee\u003c/td\u003e\n    \u003c/tr\u003e\n    \u003ctr\u003e\n      \u003cth\u003e6\u003c/th\u003e\n      \u003ctd\u003e64\u003c/td\u003e\n      \u003ctd\u003e5a4a16842ec64430ac3f916aacf35fe1\u003c/td\u003e\n    \u003c/tr\u003e\n    \u003ctr\u003e\n      \u003cth\u003e7\u003c/th\u003e\n      \u003ctd\u003e1139\u003c/td\u003e\n      \u003ctd\u003e461f92b955924604832a92b6bc14ac1d\u003c/td\u003e\n    \u003c/tr\u003e\n    \u003ctr\u003e\n      \u003cth\u003e8\u003c/th\u003e\n      \u003ctd\u003e55\u003c/td\u003e\n      \u003ctd\u003e7daf1e6dfb3443b99b240890f0a4d69b\u003c/td\u003e\n    \u003c/tr\u003e\n    \u003ctr\u003e\n      \u003cth\u003e9\u003c/th\u003e\n      \u003ctd\u003e54\u003c/td\u003e\n      \u003ctd\u003e7daf1e6dfb3443b99b240890f0a4d69b\u003c/td\u003e\n    \u003c/tr\u003e\n  \u003c/tbody\u003e\n\u003c/table\u003e"
          },
          "metadata": {},
          "output_type": "display_data"
        },
        {
          "data": {
            "text/plain": "\u0027matches.csv\u0027"
          },
          "metadata": {},
          "output_type": "display_data"
        },
        {
          "data": {
            "text/plain": "\u003cIPython.core.display.HTML object\u003e",
            "text/html": "\u003ctable border\u003d\"1\" class\u003d\"dataframe\"\u003e\n  \u003cthead\u003e\n    \u003ctr style\u003d\"text-align: right;\"\u003e\n      \u003cth\u003e\u003c/th\u003e\n      \u003cth\u003ematches_email_id\u003c/th\u003e\n      \u003cth\u003ematches_question_id\u003c/th\u003e\n    \u003c/tr\u003e\n  \u003c/thead\u003e\n  \u003ctbody\u003e\n    \u003ctr\u003e\n      \u003cth\u003e0\u003c/th\u003e\n      \u003ctd\u003e1721939\u003c/td\u003e\n      \u003ctd\u003e332a511f1569444485cf7a7a556a5e54\u003c/td\u003e\n    \u003c/tr\u003e\n    \u003ctr\u003e\n      \u003cth\u003e1\u003c/th\u003e\n      \u003ctd\u003e1665388\u003c/td\u003e\n      \u003ctd\u003e332a511f1569444485cf7a7a556a5e54\u003c/td\u003e\n    \u003c/tr\u003e\n    \u003ctr\u003e\n      \u003cth\u003e2\u003c/th\u003e\n      \u003ctd\u003e1636634\u003c/td\u003e\n      \u003ctd\u003e332a511f1569444485cf7a7a556a5e54\u003c/td\u003e\n    \u003c/tr\u003e\n    \u003ctr\u003e\n      \u003cth\u003e3\u003c/th\u003e\n      \u003ctd\u003e1635498\u003c/td\u003e\n      \u003ctd\u003e332a511f1569444485cf7a7a556a5e54\u003c/td\u003e\n    \u003c/tr\u003e\n    \u003ctr\u003e\n      \u003cth\u003e4\u003c/th\u003e\n      \u003ctd\u003e1620298\u003c/td\u003e\n      \u003ctd\u003e332a511f1569444485cf7a7a556a5e54\u003c/td\u003e\n    \u003c/tr\u003e\n    \u003ctr\u003e\n      \u003cth\u003e5\u003c/th\u003e\n      \u003ctd\u003e1618336\u003c/td\u003e\n      \u003ctd\u003e332a511f1569444485cf7a7a556a5e54\u003c/td\u003e\n    \u003c/tr\u003e\n    \u003ctr\u003e\n      \u003cth\u003e6\u003c/th\u003e\n      \u003ctd\u003e1610422\u003c/td\u003e\n      \u003ctd\u003e332a511f1569444485cf7a7a556a5e54\u003c/td\u003e\n    \u003c/tr\u003e\n    \u003ctr\u003e\n      \u003cth\u003e7\u003c/th\u003e\n      \u003ctd\u003e1601694\u003c/td\u003e\n      \u003ctd\u003e332a511f1569444485cf7a7a556a5e54\u003c/td\u003e\n    \u003c/tr\u003e\n    \u003ctr\u003e\n      \u003cth\u003e8\u003c/th\u003e\n      \u003ctd\u003e1568908\u003c/td\u003e\n      \u003ctd\u003e332a511f1569444485cf7a7a556a5e54\u003c/td\u003e\n    \u003c/tr\u003e\n    \u003ctr\u003e\n      \u003cth\u003e9\u003c/th\u003e\n      \u003ctd\u003e1551730\u003c/td\u003e\n      \u003ctd\u003e332a511f1569444485cf7a7a556a5e54\u003c/td\u003e\n    \u003c/tr\u003e\n  \u003c/tbody\u003e\n\u003c/table\u003e"
          },
          "metadata": {},
          "output_type": "display_data"
        },
        {
          "data": {
            "text/plain": "\u0027answer_scores.csv\u0027"
          },
          "metadata": {},
          "output_type": "display_data"
        },
        {
          "data": {
            "text/plain": "\u003cIPython.core.display.HTML object\u003e",
            "text/html": "\u003ctable border\u003d\"1\" class\u003d\"dataframe\"\u003e\n  \u003cthead\u003e\n    \u003ctr style\u003d\"text-align: right;\"\u003e\n      \u003cth\u003e\u003c/th\u003e\n      \u003cth\u003eid\u003c/th\u003e\n      \u003cth\u003escore\u003c/th\u003e\n    \u003c/tr\u003e\n  \u003c/thead\u003e\n  \u003ctbody\u003e\n    \u003ctr\u003e\n      \u003cth\u003e0\u003c/th\u003e\n      \u003ctd\u003e7b2bb0fc0d384e298cffa6afde9cf6ab\u003c/td\u003e\n      \u003ctd\u003e1\u003c/td\u003e\n    \u003c/tr\u003e\n    \u003ctr\u003e\n      \u003cth\u003e1\u003c/th\u003e\n      \u003ctd\u003e7640a6e5d5224c8681cc58de860858f4\u003c/td\u003e\n      \u003ctd\u003e5\u003c/td\u003e\n    \u003c/tr\u003e\n    \u003ctr\u003e\n      \u003cth\u003e2\u003c/th\u003e\n      \u003ctd\u003e3ce32e236fa9435183b2180fb213375c\u003c/td\u003e\n      \u003ctd\u003e2\u003c/td\u003e\n    \u003c/tr\u003e\n    \u003ctr\u003e\n      \u003cth\u003e3\u003c/th\u003e\n      \u003ctd\u003efa30fe4c016043e382c441a7ef743bfb\u003c/td\u003e\n      \u003ctd\u003e0\u003c/td\u003e\n    \u003c/tr\u003e\n    \u003ctr\u003e\n      \u003cth\u003e4\u003c/th\u003e\n      \u003ctd\u003e71229eb293314c8a9e545057ecc32c93\u003c/td\u003e\n      \u003ctd\u003e2\u003c/td\u003e\n    \u003c/tr\u003e\n    \u003ctr\u003e\n      \u003cth\u003e5\u003c/th\u003e\n      \u003ctd\u003e7d1a41e5ef48410fa7ff647a4bf87eed\u003c/td\u003e\n      \u003ctd\u003e1\u003c/td\u003e\n    \u003c/tr\u003e\n    \u003ctr\u003e\n      \u003cth\u003e6\u003c/th\u003e\n      \u003ctd\u003ecd04338e68cf4115a62905eac3e222db\u003c/td\u003e\n      \u003ctd\u003e1\u003c/td\u003e\n    \u003c/tr\u003e\n    \u003ctr\u003e\n      \u003cth\u003e7\u003c/th\u003e\n      \u003ctd\u003e683b200ad5014e84a441db677f990d75\u003c/td\u003e\n      \u003ctd\u003e3\u003c/td\u003e\n    \u003c/tr\u003e\n    \u003ctr\u003e\n      \u003cth\u003e8\u003c/th\u003e\n      \u003ctd\u003e6c1dcd9ffb2f49d6be05f06e765d30cd\u003c/td\u003e\n      \u003ctd\u003e3\u003c/td\u003e\n    \u003c/tr\u003e\n    \u003ctr\u003e\n      \u003cth\u003e9\u003c/th\u003e\n      \u003ctd\u003e525f6240623c468c8b8ce37b6b34694d\u003c/td\u003e\n      \u003ctd\u003e1\u003c/td\u003e\n    \u003c/tr\u003e\n  \u003c/tbody\u003e\n\u003c/table\u003e"
          },
          "metadata": {},
          "output_type": "display_data"
        },
        {
          "data": {
            "text/plain": "\u0027tags.csv\u0027"
          },
          "metadata": {},
          "output_type": "display_data"
        },
        {
          "data": {
            "text/plain": "\u003cIPython.core.display.HTML object\u003e",
            "text/html": "\u003ctable border\u003d\"1\" class\u003d\"dataframe\"\u003e\n  \u003cthead\u003e\n    \u003ctr style\u003d\"text-align: right;\"\u003e\n      \u003cth\u003e\u003c/th\u003e\n      \u003cth\u003etags_tag_id\u003c/th\u003e\n      \u003cth\u003etags_tag_name\u003c/th\u003e\n    \u003c/tr\u003e\n  \u003c/thead\u003e\n  \u003ctbody\u003e\n    \u003ctr\u003e\n      \u003cth\u003e0\u003c/th\u003e\n      \u003ctd\u003e27490\u003c/td\u003e\n      \u003ctd\u003ecollege\u003c/td\u003e\n    \u003c/tr\u003e\n    \u003ctr\u003e\n      \u003cth\u003e1\u003c/th\u003e\n      \u003ctd\u003e461\u003c/td\u003e\n      \u003ctd\u003ecomputer-science\u003c/td\u003e\n    \u003c/tr\u003e\n    \u003ctr\u003e\n      \u003cth\u003e2\u003c/th\u003e\n      \u003ctd\u003e593\u003c/td\u003e\n      \u003ctd\u003ecomputer-software\u003c/td\u003e\n    \u003c/tr\u003e\n    \u003ctr\u003e\n      \u003cth\u003e3\u003c/th\u003e\n      \u003ctd\u003e27292\u003c/td\u003e\n      \u003ctd\u003ebusiness\u003c/td\u003e\n    \u003c/tr\u003e\n    \u003ctr\u003e\n      \u003cth\u003e4\u003c/th\u003e\n      \u003ctd\u003e18217\u003c/td\u003e\n      \u003ctd\u003edoctor\u003c/td\u003e\n    \u003c/tr\u003e\n    \u003ctr\u003e\n      \u003cth\u003e5\u003c/th\u003e\n      \u003ctd\u003e54\u003c/td\u003e\n      \u003ctd\u003eengineering\u003c/td\u003e\n    \u003c/tr\u003e\n    \u003ctr\u003e\n      \u003cth\u003e6\u003c/th\u003e\n      \u003ctd\u003e129\u003c/td\u003e\n      \u003ctd\u003ecareer\u003c/td\u003e\n    \u003c/tr\u003e\n    \u003ctr\u003e\n      \u003cth\u003e7\u003c/th\u003e\n      \u003ctd\u003e89\u003c/td\u003e\n      \u003ctd\u003emedicine\u003c/td\u003e\n    \u003c/tr\u003e\n    \u003ctr\u003e\n      \u003cth\u003e8\u003c/th\u003e\n      \u003ctd\u003e53\u003c/td\u003e\n      \u003ctd\u003escience\u003c/td\u003e\n    \u003c/tr\u003e\n    \u003ctr\u003e\n      \u003cth\u003e9\u003c/th\u003e\n      \u003ctd\u003e55\u003c/td\u003e\n      \u003ctd\u003eengineer\u003c/td\u003e\n    \u003c/tr\u003e\n  \u003c/tbody\u003e\n\u003c/table\u003e"
          },
          "metadata": {},
          "output_type": "display_data"
        },
        {
          "data": {
            "text/plain": "\u0027comments.csv\u0027"
          },
          "metadata": {},
          "output_type": "display_data"
        },
        {
          "data": {
            "text/plain": "\u003cIPython.core.display.HTML object\u003e",
            "text/html": "\u003ctable border\u003d\"1\" class\u003d\"dataframe\"\u003e\n  \u003cthead\u003e\n    \u003ctr style\u003d\"text-align: right;\"\u003e\n      \u003cth\u003e\u003c/th\u003e\n      \u003cth\u003ecomments_id\u003c/th\u003e\n      \u003cth\u003ecomments_author_id\u003c/th\u003e\n      \u003cth\u003ecomments_parent_content_id\u003c/th\u003e\n      \u003cth\u003ecomments_date_added\u003c/th\u003e\n      \u003cth\u003ecomments_body\u003c/th\u003e\n    \u003c/tr\u003e\n  \u003c/thead\u003e\n  \u003ctbody\u003e\n    \u003ctr\u003e\n      \u003cth\u003e0\u003c/th\u003e\n      \u003ctd\u003ef30250d3c2ca489db1afa9b95d481e08\u003c/td\u003e\n      \u003ctd\u003e9fc88a7c3323466dbb35798264c7d497\u003c/td\u003e\n      \u003ctd\u003eb476f9c6d9cd4c50a7bacdd90edd015a\u003c/td\u003e\n      \u003ctd\u003e2019-01-31 23:39:40 UTC+0000\u003c/td\u003e\n      \u003ctd\u003eFirst, you speak to recruiters. They are train...\u003c/td\u003e\n    \u003c/tr\u003e\n    \u003ctr\u003e\n      \u003cth\u003e1\u003c/th\u003e\n      \u003ctd\u003eca9bfc4ba9464ea383a8b080301ad72c\u003c/td\u003e\n      \u003ctd\u003ede2415064b9b445c8717425ed70fd99a\u003c/td\u003e\n      \u003ctd\u003eef4b6ae24d1f4c3b977731e8189c7fd7\u003c/td\u003e\n      \u003ctd\u003e2019-01-31 20:30:47 UTC+0000\u003c/td\u003e\n      \u003ctd\u003eMost large universities offer study abroad pro...\u003c/td\u003e\n    \u003c/tr\u003e\n    \u003ctr\u003e\n      \u003cth\u003e2\u003c/th\u003e\n      \u003ctd\u003ec354f6e33956499aa8b03798a60e9386\u003c/td\u003e\n      \u003ctd\u003e6ed20605002a42b0b8e3d6ac97c50c7f\u003c/td\u003e\n      \u003ctd\u003eca7a9d7a95df471c816db82ee758f57d\u003c/td\u003e\n      \u003ctd\u003e2019-01-31 18:44:04 UTC+0000\u003c/td\u003e\n      \u003ctd\u003eFirst, I want to put you at ease that the oppo...\u003c/td\u003e\n    \u003c/tr\u003e\n    \u003ctr\u003e\n      \u003cth\u003e3\u003c/th\u003e\n      \u003ctd\u003e73a6223948714c5da6231937157e4cb7\u003c/td\u003e\n      \u003ctd\u003ed02f6d9faac24997a7003a59e5f34bd3\u003c/td\u003e\n      \u003ctd\u003ec7a88aa76f5f49b0830bfeb46ba17e4d\u003c/td\u003e\n      \u003ctd\u003e2019-01-31 17:53:28 UTC+0000\u003c/td\u003e\n      \u003ctd\u003eYour question submission was great! I just wan...\u003c/td\u003e\n    \u003c/tr\u003e\n    \u003ctr\u003e\n      \u003cth\u003e4\u003c/th\u003e\n      \u003ctd\u003e55a89a9061d44dd19569c45f90a22779\u003c/td\u003e\n      \u003ctd\u003ee78f75c543e84e1c94da1801d8560f65\u003c/td\u003e\n      \u003ctd\u003ec7a88aa76f5f49b0830bfeb46ba17e4d\u003c/td\u003e\n      \u003ctd\u003e2019-01-31 14:51:53 UTC+0000\u003c/td\u003e\n      \u003ctd\u003eThank you. I\u0027m new to this site. I\u0027m sorry if ...\u003c/td\u003e\n    \u003c/tr\u003e\n    \u003ctr\u003e\n      \u003cth\u003e5\u003c/th\u003e\n      \u003ctd\u003e3661006cdb6f4595b193b8d9fbe21228\u003c/td\u003e\n      \u003ctd\u003ed02f6d9faac24997a7003a59e5f34bd3\u003c/td\u003e\n      \u003ctd\u003e30901132449849b2aa18f308306e89a2\u003c/td\u003e\n      \u003ctd\u003e2019-01-30 23:15:54 UTC+0000\u003c/td\u003e\n      \u003ctd\u003eMy pleasure! I\u0027m so glad I was helpful!\u003c/td\u003e\n    \u003c/tr\u003e\n    \u003ctr\u003e\n      \u003cth\u003e6\u003c/th\u003e\n      \u003ctd\u003e2e0fd25e53bd4f6a838210d1addc50f3\u003c/td\u003e\n      \u003ctd\u003eda98e5a8fc6748ccac91d0951368e71f\u003c/td\u003e\n      \u003ctd\u003e5bf762c8501d450a97af992800980242\u003c/td\u003e\n      \u003ctd\u003e2019-01-30 18:03:00 UTC+0000\u003c/td\u003e\n      \u003ctd\u003eMy suggestion is to fix a certain time to focu...\u003c/td\u003e\n    \u003c/tr\u003e\n    \u003ctr\u003e\n      \u003cth\u003e7\u003c/th\u003e\n      \u003ctd\u003e82934dc63c7044b4922750024d8a51ca\u003c/td\u003e\n      \u003ctd\u003ea303c1c4faef4adda38fcd4c0d2bade1\u003c/td\u003e\n      \u003ctd\u003edee2a0bb57f446578fc9c73b745c7b15\u003c/td\u003e\n      \u003ctd\u003e2019-01-29 18:01:00 UTC+0000\u003c/td\u003e\n      \u003ctd\u003eI have a different view from Ogechi\u0027s answer. ...\u003c/td\u003e\n    \u003c/tr\u003e\n    \u003ctr\u003e\n      \u003cth\u003e8\u003c/th\u003e\n      \u003ctd\u003e8e319089858640779761122f270e8449\u003c/td\u003e\n      \u003ctd\u003e4e7876eee5b947f39602db35f4dd8162\u003c/td\u003e\n      \u003ctd\u003e30901132449849b2aa18f308306e89a2\u003c/td\u003e\n      \u003ctd\u003e2019-01-29 15:14:38 UTC+0000\u003c/td\u003e\n      \u003ctd\u003eThanks so much for your answer, Bryant and wil...\u003c/td\u003e\n    \u003c/tr\u003e\n    \u003ctr\u003e\n      \u003cth\u003e9\u003c/th\u003e\n      \u003ctd\u003e9dc4c77e87bd406ba851628e290027b3\u003c/td\u003e\n      \u003ctd\u003ec1297398b70744f9a1a4ba200af28ebe\u003c/td\u003e\n      \u003ctd\u003e7ebb0e5e9b544c1eb0c96ffad1d73dfd\u003c/td\u003e\n      \u003ctd\u003e2019-01-29 08:29:30 UTC+0000\u003c/td\u003e\n      \u003ctd\u003ehere’s another from a question 4 years ago\\r\\n...\u003c/td\u003e\n    \u003c/tr\u003e\n  \u003c/tbody\u003e\n\u003c/table\u003e"
          },
          "metadata": {},
          "output_type": "display_data"
        },
        {
          "data": {
            "text/plain": "\u0027questions.csv\u0027"
          },
          "metadata": {},
          "output_type": "display_data"
        },
        {
          "data": {
            "text/plain": "\u003cIPython.core.display.HTML object\u003e",
            "text/html": "\u003ctable border\u003d\"1\" class\u003d\"dataframe\"\u003e\n  \u003cthead\u003e\n    \u003ctr style\u003d\"text-align: right;\"\u003e\n      \u003cth\u003e\u003c/th\u003e\n      \u003cth\u003equestions_id\u003c/th\u003e\n      \u003cth\u003equestions_author_id\u003c/th\u003e\n      \u003cth\u003equestions_date_added\u003c/th\u003e\n      \u003cth\u003equestions_title\u003c/th\u003e\n      \u003cth\u003equestions_body\u003c/th\u003e\n    \u003c/tr\u003e\n  \u003c/thead\u003e\n  \u003ctbody\u003e\n    \u003ctr\u003e\n      \u003cth\u003e0\u003c/th\u003e\n      \u003ctd\u003e332a511f1569444485cf7a7a556a5e54\u003c/td\u003e\n      \u003ctd\u003e8f6f374ffd834d258ab69d376dd998f5\u003c/td\u003e\n      \u003ctd\u003e2016-04-26 11:14:26 UTC+0000\u003c/td\u003e\n      \u003ctd\u003eTeacher   career   question\u003c/td\u003e\n      \u003ctd\u003eWhat  is  a  maths  teacher?   what  is  a  ma...\u003c/td\u003e\n    \u003c/tr\u003e\n    \u003ctr\u003e\n      \u003cth\u003e1\u003c/th\u003e\n      \u003ctd\u003eeb80205482e4424cad8f16bc25aa2d9c\u003c/td\u003e\n      \u003ctd\u003eacccbda28edd4362ab03fb8b6fd2d67b\u003c/td\u003e\n      \u003ctd\u003e2016-05-20 16:48:25 UTC+0000\u003c/td\u003e\n      \u003ctd\u003eI want to become an army officer. What can I d...\u003c/td\u003e\n      \u003ctd\u003eI am Priyanka from Bangalore . Now am in 10th ...\u003c/td\u003e\n    \u003c/tr\u003e\n    \u003ctr\u003e\n      \u003cth\u003e2\u003c/th\u003e\n      \u003ctd\u003e4ec31632938a40b98909416bdd0decff\u003c/td\u003e\n      \u003ctd\u003ef2c179a563024ccc927399ce529094b5\u003c/td\u003e\n      \u003ctd\u003e2017-02-08 19:13:38 UTC+0000\u003c/td\u003e\n      \u003ctd\u003eWill going abroad for your first job increase ...\u003c/td\u003e\n      \u003ctd\u003eI\u0027m planning on going abroad for my first job....\u003c/td\u003e\n    \u003c/tr\u003e\n    \u003ctr\u003e\n      \u003cth\u003e3\u003c/th\u003e\n      \u003ctd\u003e2f6a9a99d9b24e5baa50d40d0ba50a75\u003c/td\u003e\n      \u003ctd\u003e2c30ffba444e40eabb4583b55233a5a4\u003c/td\u003e\n      \u003ctd\u003e2017-09-01 14:05:32 UTC+0000\u003c/td\u003e\n      \u003ctd\u003eTo become a specialist in business  management...\u003c/td\u003e\n      \u003ctd\u003ei hear business management is a hard way to ge...\u003c/td\u003e\n    \u003c/tr\u003e\n    \u003ctr\u003e\n      \u003cth\u003e4\u003c/th\u003e\n      \u003ctd\u003e5af8880460c141dbb02971a1a8369529\u003c/td\u003e\n      \u003ctd\u003eaa9eb1a2ab184ebbb00dc01ab663428a\u003c/td\u003e\n      \u003ctd\u003e2017-09-01 02:36:54 UTC+0000\u003c/td\u003e\n      \u003ctd\u003eAre there any scholarships out there for stude...\u003c/td\u003e\n      \u003ctd\u003eI\u0027m trying to find scholarships for first year...\u003c/td\u003e\n    \u003c/tr\u003e\n    \u003ctr\u003e\n      \u003cth\u003e5\u003c/th\u003e\n      \u003ctd\u003e7c336403258f4da3a2e0955742c76462\u003c/td\u003e\n      \u003ctd\u003ed1e4587c0e784c62bc27eb8d16a07f38\u003c/td\u003e\n      \u003ctd\u003e2017-03-01 04:27:08 UTC+0000\u003c/td\u003e\n      \u003ctd\u003eHow many years of coege do you need to be an e...\u003c/td\u003e\n      \u003ctd\u003eTo be an engineer #united-states\u003c/td\u003e\n    \u003c/tr\u003e\n    \u003ctr\u003e\n      \u003cth\u003e6\u003c/th\u003e\n      \u003ctd\u003ebe3c5edfdb07423e955e9b2d7f186bce\u003c/td\u003e\n      \u003ctd\u003e71b4554d4a824253aa28287372c55797\u003c/td\u003e\n      \u003ctd\u003e2017-09-01 04:59:38 UTC+0000\u003c/td\u003e\n      \u003ctd\u003eI want to become a doctor because of my great ...\u003c/td\u003e\n      \u003ctd\u003eI am a musician and want to pursue that in col...\u003c/td\u003e\n    \u003c/tr\u003e\n    \u003ctr\u003e\n      \u003cth\u003e7\u003c/th\u003e\n      \u003ctd\u003e0f1d6a4f276c4a05878dd48e03e52289\u003c/td\u003e\n      \u003ctd\u003e585ac233015447cc9e9a217044e515e1\u003c/td\u003e\n      \u003ctd\u003e2016-05-19 22:16:25 UTC+0000\u003c/td\u003e\n      \u003ctd\u003ewhat kind of  college could i go  to for a soc...\u003c/td\u003e\n      \u003ctd\u003eI like soccer because i been playing sense i w...\u003c/td\u003e\n    \u003c/tr\u003e\n    \u003ctr\u003e\n      \u003cth\u003e8\u003c/th\u003e\n      \u003ctd\u003ed4999cdc470049a1a3382c4b5f14a7aa\u003c/td\u003e\n      \u003ctd\u003e654e1d6fd5b947249c0e70658d01b2ac\u003c/td\u003e\n      \u003ctd\u003e2017-08-31 19:20:47 UTC+0000\u003c/td\u003e\n      \u003ctd\u003eWhat are the college classes like for and grap...\u003c/td\u003e\n      \u003ctd\u003eI\u0027m asking because I was thinking about choosi...\u003c/td\u003e\n    \u003c/tr\u003e\n    \u003ctr\u003e\n      \u003cth\u003e9\u003c/th\u003e\n      \u003ctd\u003ee214acfbe6644d65b889a3268828db9d\u003c/td\u003e\n      \u003ctd\u003e16908136951a48ed942738822cedd5c2\u003c/td\u003e\n      \u003ctd\u003e2012-09-09 05:33:25 UTC+0000\u003c/td\u003e\n      \u003ctd\u003ewhat does it take to be an anesthesiologist?\u003c/td\u003e\n      \u003ctd\u003eI am a sophomore who is interested in learning...\u003c/td\u003e\n    \u003c/tr\u003e\n  \u003c/tbody\u003e\n\u003c/table\u003e"
          },
          "metadata": {},
          "output_type": "display_data"
        },
        {
          "data": {
            "text/plain": "\u0027school_memberships.csv\u0027"
          },
          "metadata": {},
          "output_type": "display_data"
        },
        {
          "data": {
            "text/plain": "\u003cIPython.core.display.HTML object\u003e",
            "text/html": "\u003ctable border\u003d\"1\" class\u003d\"dataframe\"\u003e\n  \u003cthead\u003e\n    \u003ctr style\u003d\"text-align: right;\"\u003e\n      \u003cth\u003e\u003c/th\u003e\n      \u003cth\u003eschool_memberships_school_id\u003c/th\u003e\n      \u003cth\u003eschool_memberships_user_id\u003c/th\u003e\n    \u003c/tr\u003e\n  \u003c/thead\u003e\n  \u003ctbody\u003e\n    \u003ctr\u003e\n      \u003cth\u003e0\u003c/th\u003e\n      \u003ctd\u003e197406\u003c/td\u003e\n      \u003ctd\u003e23dce13ca6164a73aec7a3cd56a4884d\u003c/td\u003e\n    \u003c/tr\u003e\n    \u003ctr\u003e\n      \u003cth\u003e1\u003c/th\u003e\n      \u003ctd\u003e197398\u003c/td\u003e\n      \u003ctd\u003e23dce13ca6164a73aec7a3cd56a4884d\u003c/td\u003e\n    \u003c/tr\u003e\n    \u003ctr\u003e\n      \u003cth\u003e2\u003c/th\u003e\n      \u003ctd\u003e199821\u003c/td\u003e\n      \u003ctd\u003e23dce13ca6164a73aec7a3cd56a4884d\u003c/td\u003e\n    \u003c/tr\u003e\n    \u003ctr\u003e\n      \u003cth\u003e3\u003c/th\u003e\n      \u003ctd\u003e186239\u003c/td\u003e\n      \u003ctd\u003e9c5803ae43ca4cf6b27ea85871625116\u003c/td\u003e\n    \u003c/tr\u003e\n    \u003ctr\u003e\n      \u003cth\u003e4\u003c/th\u003e\n      \u003ctd\u003e182063\u003c/td\u003e\n      \u003ctd\u003e9c5803ae43ca4cf6b27ea85871625116\u003c/td\u003e\n    \u003c/tr\u003e\n    \u003ctr\u003e\n      \u003cth\u003e5\u003c/th\u003e\n      \u003ctd\u003e197893\u003c/td\u003e\n      \u003ctd\u003e9c5803ae43ca4cf6b27ea85871625116\u003c/td\u003e\n    \u003c/tr\u003e\n    \u003ctr\u003e\n      \u003cth\u003e6\u003c/th\u003e\n      \u003ctd\u003e197913\u003c/td\u003e\n      \u003ctd\u003e9c5803ae43ca4cf6b27ea85871625116\u003c/td\u003e\n    \u003c/tr\u003e\n    \u003ctr\u003e\n      \u003cth\u003e7\u003c/th\u003e\n      \u003ctd\u003e198515\u003c/td\u003e\n      \u003ctd\u003e9c5803ae43ca4cf6b27ea85871625116\u003c/td\u003e\n    \u003c/tr\u003e\n    \u003ctr\u003e\n      \u003cth\u003e8\u003c/th\u003e\n      \u003ctd\u003e197922\u003c/td\u003e\n      \u003ctd\u003ef6495850d9be4bebbd0a78f25a9f4371\u003c/td\u003e\n    \u003c/tr\u003e\n    \u003ctr\u003e\n      \u003cth\u003e9\u003c/th\u003e\n      \u003ctd\u003e102979\u003c/td\u003e\n      \u003ctd\u003ef6495850d9be4bebbd0a78f25a9f4371\u003c/td\u003e\n    \u003c/tr\u003e\n  \u003c/tbody\u003e\n\u003c/table\u003e"
          },
          "metadata": {},
          "output_type": "display_data"
        },
        {
          "data": {
            "text/plain": "\u0027question_scores.csv\u0027"
          },
          "metadata": {},
          "output_type": "display_data"
        },
        {
          "data": {
            "text/plain": "\u003cIPython.core.display.HTML object\u003e",
            "text/html": "\u003ctable border\u003d\"1\" class\u003d\"dataframe\"\u003e\n  \u003cthead\u003e\n    \u003ctr style\u003d\"text-align: right;\"\u003e\n      \u003cth\u003e\u003c/th\u003e\n      \u003cth\u003eid\u003c/th\u003e\n      \u003cth\u003escore\u003c/th\u003e\n    \u003c/tr\u003e\n  \u003c/thead\u003e\n  \u003ctbody\u003e\n    \u003ctr\u003e\n      \u003cth\u003e0\u003c/th\u003e\n      \u003ctd\u003e38436aadef3d4b608ad089cf53ab0fe7\u003c/td\u003e\n      \u003ctd\u003e5\u003c/td\u003e\n    \u003c/tr\u003e\n    \u003ctr\u003e\n      \u003cth\u003e1\u003c/th\u003e\n      \u003ctd\u003eedb8c179c5d64c9cb812a59a32045f55\u003c/td\u003e\n      \u003ctd\u003e4\u003c/td\u003e\n    \u003c/tr\u003e\n    \u003ctr\u003e\n      \u003cth\u003e2\u003c/th\u003e\n      \u003ctd\u003e333464d7484b43e3866e86096bc4ddb9\u003c/td\u003e\n      \u003ctd\u003e6\u003c/td\u003e\n    \u003c/tr\u003e\n    \u003ctr\u003e\n      \u003cth\u003e3\u003c/th\u003e\n      \u003ctd\u003e4b995e60b99d4ee18346e893e007cb8f\u003c/td\u003e\n      \u003ctd\u003e6\u003c/td\u003e\n    \u003c/tr\u003e\n    \u003ctr\u003e\n      \u003cth\u003e4\u003c/th\u003e\n      \u003ctd\u003ef6b9ca94aed04ba28256492708e74f60\u003c/td\u003e\n      \u003ctd\u003e6\u003c/td\u003e\n    \u003c/tr\u003e\n    \u003ctr\u003e\n      \u003cth\u003e5\u003c/th\u003e\n      \u003ctd\u003e216abb4056a64b198bdc6544830c822a\u003c/td\u003e\n      \u003ctd\u003e1\u003c/td\u003e\n    \u003c/tr\u003e\n    \u003ctr\u003e\n      \u003cth\u003e6\u003c/th\u003e\n      \u003ctd\u003eca209b4e19064d8e9834b3ca1a3f5361\u003c/td\u003e\n      \u003ctd\u003e1\u003c/td\u003e\n    \u003c/tr\u003e\n    \u003ctr\u003e\n      \u003cth\u003e7\u003c/th\u003e\n      \u003ctd\u003edd363c09e4744c4b977499f215289b35\u003c/td\u003e\n      \u003ctd\u003e5\u003c/td\u003e\n    \u003c/tr\u003e\n    \u003ctr\u003e\n      \u003cth\u003e8\u003c/th\u003e\n      \u003ctd\u003e098e4b0acf17440da9cbd7c036c53d3b\u003c/td\u003e\n      \u003ctd\u003e6\u003c/td\u003e\n    \u003c/tr\u003e\n    \u003ctr\u003e\n      \u003cth\u003e9\u003c/th\u003e\n      \u003ctd\u003e63c89317413046f483020585f0cc8dc4\u003c/td\u003e\n      \u003ctd\u003e5\u003c/td\u003e\n    \u003c/tr\u003e\n  \u003c/tbody\u003e\n\u003c/table\u003e"
          },
          "metadata": {},
          "output_type": "display_data"
        },
        {
          "data": {
            "text/plain": "\u0027students.csv\u0027"
          },
          "metadata": {},
          "output_type": "display_data"
        },
        {
          "data": {
            "text/plain": "\u003cIPython.core.display.HTML object\u003e",
            "text/html": "\u003ctable border\u003d\"1\" class\u003d\"dataframe\"\u003e\n  \u003cthead\u003e\n    \u003ctr style\u003d\"text-align: right;\"\u003e\n      \u003cth\u003e\u003c/th\u003e\n      \u003cth\u003estudents_id\u003c/th\u003e\n      \u003cth\u003estudents_location\u003c/th\u003e\n      \u003cth\u003estudents_date_joined\u003c/th\u003e\n    \u003c/tr\u003e\n  \u003c/thead\u003e\n  \u003ctbody\u003e\n    \u003ctr\u003e\n      \u003cth\u003e0\u003c/th\u003e\n      \u003ctd\u003e12a89e96755a4dba83ff03e03043d9c0\u003c/td\u003e\n      \u003ctd\u003eNaN\u003c/td\u003e\n      \u003ctd\u003e2011-12-16 14:19:24 UTC+0000\u003c/td\u003e\n    \u003c/tr\u003e\n    \u003ctr\u003e\n      \u003cth\u003e1\u003c/th\u003e\n      \u003ctd\u003ee37a5990fe354c60be5e87376b08d5e3\u003c/td\u003e\n      \u003ctd\u003eNaN\u003c/td\u003e\n      \u003ctd\u003e2011-12-27 03:02:44 UTC+0000\u003c/td\u003e\n    \u003c/tr\u003e\n    \u003ctr\u003e\n      \u003cth\u003e2\u003c/th\u003e\n      \u003ctd\u003e12b402cceeda43dcb6e12ef9f2d221ea\u003c/td\u003e\n      \u003ctd\u003eNaN\u003c/td\u003e\n      \u003ctd\u003e2012-01-01 05:00:00 UTC+0000\u003c/td\u003e\n    \u003c/tr\u003e\n    \u003ctr\u003e\n      \u003cth\u003e3\u003c/th\u003e\n      \u003ctd\u003ea0f431fc79794edcb104f68ce55ab897\u003c/td\u003e\n      \u003ctd\u003eNaN\u003c/td\u003e\n      \u003ctd\u003e2012-01-01 05:00:00 UTC+0000\u003c/td\u003e\n    \u003c/tr\u003e\n    \u003ctr\u003e\n      \u003cth\u003e4\u003c/th\u003e\n      \u003ctd\u003e23aea4702d804bd88d1e9fb28074a1b4\u003c/td\u003e\n      \u003ctd\u003eNaN\u003c/td\u003e\n      \u003ctd\u003e2012-01-01 05:00:00 UTC+0000\u003c/td\u003e\n    \u003c/tr\u003e\n    \u003ctr\u003e\n      \u003cth\u003e5\u003c/th\u003e\n      \u003ctd\u003e18a8f9363cd24a37b690e1b205146b14\u003c/td\u003e\n      \u003ctd\u003eNaN\u003c/td\u003e\n      \u003ctd\u003e2012-01-01 05:00:00 UTC+0000\u003c/td\u003e\n    \u003c/tr\u003e\n    \u003ctr\u003e\n      \u003cth\u003e6\u003c/th\u003e\n      \u003ctd\u003ed21c67279ada49d1bcf66ad620c00911\u003c/td\u003e\n      \u003ctd\u003eNaN\u003c/td\u003e\n      \u003ctd\u003e2012-01-01 05:00:00 UTC+0000\u003c/td\u003e\n    \u003c/tr\u003e\n    \u003ctr\u003e\n      \u003cth\u003e7\u003c/th\u003e\n      \u003ctd\u003e433c0f5f90344453ba50ec8aee5fdfa4\u003c/td\u003e\n      \u003ctd\u003eNaN\u003c/td\u003e\n      \u003ctd\u003e2012-01-01 05:00:00 UTC+0000\u003c/td\u003e\n    \u003c/tr\u003e\n    \u003ctr\u003e\n      \u003cth\u003e8\u003c/th\u003e\n      \u003ctd\u003ef0a7d23c3d374f8d9a1a5eb9b96eab0f\u003c/td\u003e\n      \u003ctd\u003eNaN\u003c/td\u003e\n      \u003ctd\u003e2012-01-01 05:00:00 UTC+0000\u003c/td\u003e\n    \u003c/tr\u003e\n    \u003ctr\u003e\n      \u003cth\u003e9\u003c/th\u003e\n      \u003ctd\u003e26269f6765b74347b28155aea1b57393\u003c/td\u003e\n      \u003ctd\u003eNaN\u003c/td\u003e\n      \u003ctd\u003e2012-01-01 05:00:00 UTC+0000\u003c/td\u003e\n    \u003c/tr\u003e\n  \u003c/tbody\u003e\n\u003c/table\u003e"
          },
          "metadata": {},
          "output_type": "display_data"
        }
      ],
      "source": "for df_name, df_content in files.items():\n    display(df_name)\n    display(HTML(df_content[:10].to_html()))",
      "metadata": {
        "pycharm": {
          "metadata": false,
          "name": "#%%\n",
          "is_executing": false
        }
      }
    },
    {
      "cell_type": "code",
      "execution_count": 16,
      "outputs": [
        {
          "data": {
            "text/plain": "youth program           33\nprofessional network     8\nmentorship program       3\ncause                    2\nclub                     1\ncompetition              1\ninterest group           1\nName: groups_group_type, dtype: int64"
          },
          "metadata": {},
          "output_type": "display_data"
        },
        {
          "data": {
            "text/plain": "49"
          },
          "metadata": {},
          "output_type": "display_data"
        }
      ],
      "source": "groups \u003d files[\u0027groups.csv\u0027]\ndisplay(groups[\u0027groups_group_type\u0027].value_counts())\ndisplay(len(groups[\u0027groups_group_type\u0027]))",
      "metadata": {
        "pycharm": {
          "metadata": false,
          "name": "#%%\n",
          "is_executing": false
        }
      }
    },
    {
      "cell_type": "code",
      "execution_count": null,
      "outputs": [],
      "source": "\n",
      "metadata": {
        "pycharm": {
          "metadata": false,
          "name": "#%%\n"
        }
      }
    }
  ],
  "metadata": {
    "language_info": {
      "codemirror_mode": {
        "name": "ipython",
        "version": 2
      },
      "file_extension": ".py",
      "mimetype": "text/x-python",
      "name": "python",
      "nbconvert_exporter": "python",
      "pygments_lexer": "ipython2",
      "version": "2.7.6"
    },
    "kernelspec": {
      "name": "python3",
      "language": "python",
      "display_name": "Python 3"
    },
    "stem_cell": {
      "cell_type": "raw",
      "source": "",
      "metadata": {
        "pycharm": {
          "metadata": false
        }
      }
    }
  },
  "nbformat": 4,
  "nbformat_minor": 0
}