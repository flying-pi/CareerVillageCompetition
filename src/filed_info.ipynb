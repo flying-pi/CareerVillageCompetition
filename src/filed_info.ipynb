{
  "cells": [
    {
      "cell_type": "markdown",
      "metadata": {
        "pycharm": {}
      },
      "source": "CareerVillage.org has provided several years of anonymized data and each file comes from a table in their database.\n\n* **answers.csv:** Answers are what this is all about! Answers get posted in response to questions. Answers can only be posted by users who are registered as Professionals. However, if someone has changed their registration type after joining, they may show up as the author of an Answer even if they are no longer a Professional.\n* **comments.csv:** Comments can be made on Answers or Questions. We refer to whichever the comment is posted to as the \"parent\" of that comment. Comments can be posted by any type of user. Our favorite comments tend to have \"Thank you\" in them :)\n* **emails.csv:** Each email corresponds to one specific email to one specific recipient. The frequency_level refers to the type of email template which includes immediate emails sent right after a question is asked, daily digests, and weekly digests.\n* **group_memberships.csv:** Any type of user can join any group. There are only a handful of groups so far.\n* **groups.csv:** Each group has a \"type\". For privacy reasons we have to leave the group names off.\n* **matches.csv:** Each row tells you which questions were included in emails. If an email contains only one question, that email\u0027s ID will show up here only once. If an email contains 10 questions, that email\u0027s ID would show up here 10 times.\n* **professionals.csv:** We call our volunteers \"Professionals\", but we might as well call them Superheroes. They\u0027re the grown ups who volunteer their time to answer questions on the site.\n* **questions.csv:** Questions get posted by students. Sometimes they\u0027re very advanced. Sometimes they\u0027re just getting started. It\u0027s all fair game, as long as it\u0027s relevant to the student\u0027s future professional success.\n* **school_memberships.csv:** Just like group_memberships, but for schools instead.\n* **students.csv:** Students are the most important people on CareerVillage.org. They tend to range in age from about 14 to 24. They\u0027re all over the world, and they\u0027re the reason we exist!\n* **tag_questions.csv:** Every question can be hashtagged. We track the hashtag-to-question pairings, and put them into this file.\n* **tag_users.csv:** Users of any type can follow a hashtag. This shows you which hashtags each user follows.\n* **tags.csv:** Each tag gets a name.\n* **question_scores.csv:** \"Hearts\" scores for each question.\n* **answer_scores.csv:** \"Hearts\" scores for each answer."
    },
    {
      "cell_type": "code",
      "execution_count": null,
      "metadata": {
        "pycharm": {}
      },
      "outputs": [],
      "source": []
    }
  ],
  "metadata": {
    "kernelspec": {
      "display_name": "Python 3",
      "language": "python",
      "name": "python3"
    },
    "language_info": {
      "codemirror_mode": {
        "name": "ipython",
        "version": 3
      },
      "file_extension": ".py",
      "mimetype": "text/x-python",
      "name": "python",
      "nbconvert_exporter": "python",
      "pygments_lexer": "ipython3",
      "version": "3.7.3"
    }
  },
  "nbformat": 4,
  "nbformat_minor": 2
}