{
 "cells": [
  {
   "cell_type": "markdown",
   "metadata": {
    "pycharm": {}
   },
   "source": [
    "CareerVillage.org has provided several years of anonymized data and each file comes from a table in their database.\n",
    "\n",
    "* **answers.csv:** Answers are what this is all about! Answers get posted in response to questions. Answers can only be posted by users who are registered as Professionals. However, if someone has changed their registration type after joining, they may show up as the author of an Answer even if they are no longer a Professional.\n",
    "* **comments.csv:** Comments can be made on Answers or Questions. We refer to whichever the comment is posted to as the \"parent\" of that comment. Comments can be posted by any type of user. Our favorite comments tend to have \"Thank you\" in them :)\n",
    "* **emails.csv:** Each email corresponds to one specific email to one specific recipient. The frequency_level refers to the type of email template which includes immediate emails sent right after a question is asked, daily digests, and weekly digests.\n",
    "* **group_memberships.csv:** Any type of user can join any group. There are only a handful of groups so far.\n",
    "* **groups.csv:** Each group has a \"type\". For privacy reasons we have to leave the group names off.\n",
    "* **matches.csv:** Each row tells you which questions were included in emails. If an email contains only one question, that email's ID will show up here only once. If an email contains 10 questions, that email's ID would show up here 10 times.\n",
    "* **professionals.csv:** We call our volunteers \"Professionals\", but we might as well call them Superheroes. They're the grown ups who volunteer their time to answer questions on the site.\n",
    "* **questions.csv:** Questions get posted by students. Sometimes they're very advanced. Sometimes they're just getting started. It's all fair game, as long as it's relevant to the student's future professional success.\n",
    "* **school_memberships.csv:** Just like group_memberships, but for schools instead.\n",
    "* **students.csv:** Students are the most important people on CareerVillage.org. They tend to range in age from about 14 to 24. They're all over the world, and they're the reason we exist!\n",
    "* **tag_questions.csv:** Every question can be hashtagged. We track the hashtag-to-question pairings, and put them into this file.\n",
    "* **tag_users.csv:** Users of any type can follow a hashtag. This shows you which hashtags each user follows.\n",
    "* **tags.csv:** Each tag gets a name.\n",
    "* **question_scores.csv:** \"Hearts\" scores for each question.\n",
    "* **answer_scores.csv:** \"Hearts\" scores for each answer."
   ]
  },
  {
   "cell_type": "code",
   "execution_count": 3,
   "metadata": {
    "pycharm": {
     "name": "#%%\n",
     "is_executing": false
    }
   },
   "outputs": [
    {
     "name": "stdout",
     "text": [
      "100\n"
     ],
     "output_type": "stream"
    }
   ],
   "source": [
    "a = 100\n",
    "print(a)"
   ]
  },
  {
   "cell_type": "code",
   "execution_count": 6,
   "outputs": [],
   "source": [
    "def tor(a,b):\n",
    "    return a+b"
   ],
   "metadata": {
    "collapsed": false,
    "pycharm": {
     "name": "#%%\n",
     "is_executing": false
    }
   }
  },
  {
   "cell_type": "code",
   "execution_count": 13,
   "outputs": [
    {
     "name": "stdout",
     "text": [
      "Package              Version    \r\n-------------------- -----------\r\nabsl-py              0.7.1      \r\nalembic              1.0.8      \r\nasn1crypto           0.24.0     \r\nastor                0.7.1      \r\nasync-generator      1.10       \r\nattrs                19.1.0     \r\nbackcall             0.1.0      \r\nbeautifulsoup4       4.7.1      \r\nbleach               3.1.0      \r\nbokeh                1.0.4      \r\ncertifi              2019.3.9   \r\ncffi                 1.12.3     \r\nchardet              3.0.4      \r\nClick                7.0        \r\ncloudpickle          0.8.1      \r\nconda                4.6.14     \r\ncryptography         2.6.1      \r\ncycler               0.10.0     \r\nCython               0.29.7     \r\ncytoolz              0.9.0.1    \r\ndask                 1.1.5      \r\ndecorator            4.4.0      \r\ndefusedxml           0.5.0      \r\ndill                 0.2.9      \r\ndistributed          1.27.0     \r\nentrypoints          0.3        \r\nfastcache            1.0.2      \r\ngast                 0.2.2      \r\ngmpy2                2.0.8      \r\ngrpcio               1.16.1     \r\nh5py                 2.9.0      \r\nheapdict             1.0.0      \r\nidna                 2.8        \r\nimageio              2.5.0      \r\nipykernel            5.1.0      \r\nipython              7.4.0      \r\nipython-genutils     0.2.0      \r\nipywidgets           7.4.2      \r\njedi                 0.13.3     \r\nJinja2               2.10.1     \r\njsonschema           3.0.1      \r\njupyter-client       5.2.4      \r\njupyter-core         4.4.0      \r\njupyterhub           0.9.6      \r\njupyterlab           0.35.4     \r\njupyterlab-server    0.2.0      \r\nKeras                2.2.4      \r\nKeras-Applications   1.0.7      \r\nKeras-Preprocessing  1.0.9      \r\nkiwisolver           1.0.1      \r\nllvmlite             0.27.1     \r\nlocket               0.2.0      \r\nMako                 1.0.7      \r\nMarkdown             2.6.11     \r\nMarkupSafe           1.1.1      \r\nmatplotlib           3.0.3      \r\nmistune              0.8.4      \r\nmock                 2.0.0      \r\nmpmath               1.1.0      \r\nmsgpack              0.6.1      \r\nnbconvert            5.4.1      \r\nnbformat             4.4.0      \r\nnetworkx             2.3        \r\nnotebook             5.7.8      \r\nnumba                0.42.0     \r\nnumexpr              2.6.9      \r\nnumpy                1.16.3     \r\nolefile              0.46       \r\npackaging            19.0       \r\npamela               1.0.0      \r\npandas               0.24.2     \r\npandocfilters        1.4.2      \r\nparso                0.4.0      \r\npartd                0.3.9      \r\npatsy                0.5.1      \r\npbr                  5.1.3      \r\npexpect              4.7.0      \r\npickleshare          0.7.5      \r\nPillow               6.0.0      \r\npip                  19.0.3     \r\nprometheus-client    0.6.0      \r\nprompt-toolkit       2.0.9      \r\nprotobuf             3.7.1      \r\npsutil               5.6.1      \r\nptyprocess           0.6.0      \r\npycosat              0.6.3      \r\npycparser            2.19       \r\npycurl               7.43.0.2   \r\npydevd-pycharm       191.6605.12\r\nPygments             2.3.1      \r\npyOpenSSL            19.0.0     \r\npyparsing            2.4.0      \r\npyrsistent           0.14.11    \r\nPySocks              1.6.8      \r\npython-dateutil      2.8.0      \r\npython-editor        1.0.4      \r\npython-oauth2        1.1.0      \r\npytz                 2019.1     \r\nPyWavelets           1.0.3      \r\nPyYAML               5.1        \r\npyzmq                18.0.1     \r\nrequests             2.21.0     \r\nruamel-yaml          0.15.71    \r\nscikit-image         0.14.2     \r\nscikit-learn         0.20.3     \r\nscipy                1.2.1      \r\nseaborn              0.9.0      \r\nSend2Trash           1.5.0      \r\nsetuptools           41.0.0     \r\nsix                  1.12.0     \r\nsortedcontainers     2.1.0      \r\nsoupsieve            1.9.1      \r\nSQLAlchemy           1.3.3      \r\nstatsmodels          0.9.0      \r\nsympy                1.3        \r\ntblib                1.3.2      \r\ntensorboard          1.13.1     \r\ntensorflow           1.13.1     \r\ntensorflow-estimator 1.13.0     \r\ntermcolor            1.1.0      \r\nterminado            0.8.2      \r\ntestpath             0.4.2      \r\ntoolz                0.9.0      \r\ntornado              6.0.2      \r\ntraitlets            4.3.2      \r\nurllib3              1.24.2     \r\nvincent              0.4.4      \r\nwcwidth              0.1.7      \r\nwebencodings         0.5.1      \r\nWerkzeug             0.15.2     \r\nwheel                0.33.1     \r\nwidgetsnbextension   3.4.2      \r\nxlrd                 1.2.0      \r\nzict                 0.1.4      \r\n"
     ],
     "output_type": "stream"
    }
   ],
   "source": [
    "! bash -c \"pip list\" \n"
   ],
   "metadata": {
    "collapsed": false,
    "pycharm": {
     "name": "#%%\n",
     "is_executing": false
    }
   }
  },
  {
   "cell_type": "code",
   "execution_count": 14,
   "outputs": [],
   "source": [
    "import tensorflow as tf "
   ],
   "metadata": {
    "collapsed": false,
    "pycharm": {
     "name": "#%%\n",
     "is_executing": false
    }
   }
  },
  {
   "cell_type": "code",
   "execution_count": 16,
   "outputs": [
    {
     "data": {
      "text/plain": "\"b'v1.13.0-rc2-5-g6612da8'\""
     },
     "metadata": {},
     "output_type": "execute_result",
     "execution_count": 16
    }
   ],
   "source": [
    "tf.version.GIT_VERSION"
   ],
   "metadata": {
    "collapsed": false,
    "pycharm": {
     "name": "#%%\n",
     "is_executing": false
    }
   }
  },
  {
   "cell_type": "code",
   "execution_count": null,
   "outputs": [],
   "source": [
    "\n"
   ],
   "metadata": {
    "collapsed": false,
    "pycharm": {
     "name": "#%%\n"
    }
   }
  }
 ],
 "metadata": {
  "kernelspec": {
   "display_name": "Python 3",
   "language": "python",
   "name": "python3"
  },
  "language_info": {
   "codemirror_mode": {
    "name": "ipython",
    "version": 3
   },
   "file_extension": ".py",
   "mimetype": "text/x-python",
   "name": "python",
   "nbconvert_exporter": "python",
   "pygments_lexer": "ipython3",
   "version": "3.7.3"
  },
  "pycharm": {
   "stem_cell": {
    "cell_type": "raw",
    "source": [],
    "metadata": {
     "collapsed": false
    }
   }
  }
 },
 "nbformat": 4,
 "nbformat_minor": 2
}